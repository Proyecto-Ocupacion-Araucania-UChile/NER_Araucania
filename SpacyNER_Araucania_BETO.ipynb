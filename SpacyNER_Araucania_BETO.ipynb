{
  "nbformat": 4,
  "nbformat_minor": 0,
  "metadata": {
    "colab": {
      "name": "SpacyNER_Araucania_BETO.ipynb",
      "provenance": [],
      "collapsed_sections": [
        "L0RtQ3GpQktv"
      ]
    },
    "kernelspec": {
      "name": "python3",
      "display_name": "Python 3"
    },
    "language_info": {
      "name": "python"
    },
    "gpuClass": "standard",
    "accelerator": "GPU"
  },
  "cells": [
    {
      "cell_type": "markdown",
      "source": [
        "#### Introduction\n",
        "\n",
        "\n",
        "In this tutorial, we will refine a transformation model for *Named Entity Recognition* based on the BETO model (a Spanish adaptation of the BERT model). \n",
        "This tutorial aims at producing a tranformers model via the spacy and sklearn library by proceeding to the cross validation technique.\n",
        "\n",
        "**Warning** : This processing chain works only via the notebook interface (when using the GPU colab). It is possible to use the native *subsystem* library to execute bash commands."
      ],
      "metadata": {
        "id": "Qyjc2RsZ4wXR"
      }
    },
    {
      "cell_type": "markdown",
      "source": [
        "##### Flow of the notebook\n",
        "\n",
        "The notebook will be divided into seperate sections to provide a organized walk through for the process used.\n",
        "\n",
        "1. [Checking system and requirements](#section00)\n",
        "2. [Configuration system](#section01)\n",
        "3. [Finetuning](#section02) \\\n",
        "3-1. [Preprocessing](#section021) \\\n",
        "3-2. [Training](#section022)\n",
        "4. [Global evaluation](#section03)"
      ],
      "metadata": {
        "id": "wtDoCtIqA23h"
      }
    },
    {
      "cell_type": "markdown",
      "source": [
        "<a name=\"section00\"></a>\n",
        "####Checking"
      ],
      "metadata": {
        "id": "LainhQPbPiWb"
      }
    },
    {
      "cell_type": "code",
      "execution_count": null,
      "metadata": {
        "id": "K3JC4YNX-Gil"
      },
      "outputs": [],
      "source": [
        "#Check gpu activity\n",
        "!nvidia-smi"
      ]
    },
    {
      "cell_type": "code",
      "source": [
        "#open google drive\n",
        "from google.colab import drive\n",
        "drive.mount('/content/drive')"
      ],
      "metadata": {
        "id": "6TVaKmzj-JZg"
      },
      "execution_count": null,
      "outputs": []
    },
    {
      "cell_type": "markdown",
      "source": [
        "##### install dependencies"
      ],
      "metadata": {
        "id": "7dVR7p4dQcom"
      }
    },
    {
      "cell_type": "code",
      "source": [
        "!pip install -U pandas\n",
        "!pip install -U scikit-learn\n",
        "!pip install -U spacy[transformers]"
      ],
      "metadata": {
        "id": "lCApoHl0-Lu4"
      },
      "execution_count": null,
      "outputs": []
    },
    {
      "cell_type": "markdown",
      "source": [
        "<a name=\"section01\"></a>\n",
        "####Configuration"
      ],
      "metadata": {
        "id": "L0RtQ3GpQktv"
      }
    },
    {
      "cell_type": "code",
      "source": [
        "#for dev and train data\n",
        "import os\n",
        "#specific train\n",
        "if not os.path.isdir('/content/drive/MyDrive/nlp'):\n",
        "  os.mkdir('/content/drive/MyDrive/nlp')\n",
        "#data\n",
        "if not os.path.isdir('/content/drive/MyDrive/nlp/spacyNER_data'):\n",
        "  os.mkdir('/content/drive/MyDrive/nlp/spacyNER_data')\n",
        "#model \n",
        "if not os.path.isdir('/content/drive/MyDrive/nlp/spacyNER_model'):\n",
        "  os.mkdir('/content/drive/MyDrive/nlp/spacyNER_model')\n",
        "#cross_validation\n",
        "if not os.path.isdir('/content/drive/MyDrive/nlp/spacyNER_model/cross_valid'):\n",
        "  os.mkdir('/content/drive/MyDrive/nlp/spacyNER_model/cross_valid')"
      ],
      "metadata": {
        "id": "jbXoo5Xs-NZ4"
      },
      "execution_count": null,
      "outputs": []
    },
    {
      "cell_type": "code",
      "source": [
        "import spacy\n",
        "spacy.require_gpu()"
      ],
      "metadata": {
        "colab": {
          "base_uri": "https://localhost:8080/"
        },
        "id": "5CaDeeL6-O5t",
        "outputId": "3e8d3bc8-1e58-4292-ef39-579f8f9a1b11"
      },
      "execution_count": null,
      "outputs": [
        {
          "output_type": "execute_result",
          "data": {
            "text/plain": [
              "True"
            ]
          },
          "metadata": {},
          "execution_count": 13
        }
      ]
    },
    {
      "cell_type": "markdown",
      "source": [
        "<a id='section02'></a>\n",
        "### Finetuning"
      ],
      "metadata": {
        "id": "l6WEZjlB47nE"
      }
    },
    {
      "cell_type": "markdown",
      "source": [
        "<a id='section021'></a>\n",
        "####Preprocessing"
      ],
      "metadata": {
        "id": "n02SBdZPQp17"
      }
    },
    {
      "cell_type": "code",
      "source": [
        "def split_dataset(dataframe, train_ratio: float):\n",
        "  \"\"\"\n",
        "  function to split dataframe with ration as you want\n",
        "  :dataframe: dataframe\n",
        "  :train_ratio: float, ratio of split training\n",
        "  :return: None\n",
        "  \"\"\"\n",
        "  from sklearn.model_selection import train_test_split\n",
        "\n",
        "  assert(train_ratio < 1), \"the number must be value between 0 and 1\"\n",
        "\n",
        "  train_df, test_df = train_test_split(dataframe, test_size= 1 - train_ratio)\n",
        "  \n",
        "  return train_df, test_df"
      ],
      "metadata": {
        "id": "3D5VUh6r-QjI"
      },
      "execution_count": null,
      "outputs": []
    },
    {
      "cell_type": "code",
      "source": [
        "def convert_binary(name: str, data):\n",
        "  \"\"\"\n",
        "  function to convert dataset (Dataframe) in binary spacy format\n",
        "  :name: str, name of binary file outpout\n",
        "  :data: dataframe\n",
        "  :return: count of tokens and entities in file\n",
        "  \"\"\"\n",
        "  from spacy.tokens import DocBin\n",
        "  \n",
        "  #Generate tokenization\n",
        "  nlp = spacy.blank(\"es\")\n",
        "  # the DocBin will store the example documents\n",
        "  db = DocBin(attrs=[\"ENT_IOB\", \"ENT_TYPE\"])\n",
        "\n",
        "  #counting variable\n",
        "  n_token = 0\n",
        "  n_entities = 0\n",
        "\n",
        "  for index, row in data.iterrows():\n",
        "    doc = nlp(row[\"text\"])\n",
        "    n_token += len(doc)\n",
        "    n_entities += len(row[\"label\"])\n",
        "    ents = []\n",
        "    for ent in row[\"label\"]:\n",
        "      start, end, label = tuple(ent)\n",
        "      span = doc.char_span(start, end, label=label)\n",
        "      if span is not None:\n",
        "        ents.append(span)\n",
        "      else:\n",
        "        n_entities -= 1\n",
        "    try:\n",
        "      doc.ents = ents\n",
        "    except TypeError:\n",
        "      print(ents)\n",
        "      pass\n",
        "    db.add(doc)\n",
        "    db.to_disk(f\"/content/drive/MyDrive/nlp/spacyNER_data/{name}.spacy\")\n",
        "  return n_token, n_entities"
      ],
      "metadata": {
        "id": "rAbRo5h1-R7U"
      },
      "execution_count": null,
      "outputs": []
    },
    {
      "cell_type": "code",
      "source": [
        "def export_json(data: dict):\n",
        "  \"\"\"\n",
        "  Export json file with metadata's models\n",
        "  \n",
        "  :data: dictionary of metadata\n",
        "  \"\"\"\n",
        "  import json\n",
        "\n",
        "  with open(\"/content/drive/MyDrive/nlp/spacyNER_model/cross_valid/metadata.json\", \"w\", encoding=\"utf-8\") as json_files:\n",
        "    json.dump(data, json_files, ensure_ascii=False, indent=3)"
      ],
      "metadata": {
        "id": "au96vnz-R0ak"
      },
      "execution_count": null,
      "outputs": []
    },
    {
      "cell_type": "markdown",
      "source": [
        "<a name=\"section022\"></a>\n",
        "#### Training"
      ],
      "metadata": {
        "id": "gZhBMJ6sQurA"
      }
    },
    {
      "cell_type": "code",
      "source": [
        "from sklearn.model_selection import KFold\n",
        "import pandas as pd\n",
        "\n",
        "#import dataset\n",
        "df = pd.read_json(\"/content/drive/MyDrive/nlp/spacyNER_data/dataset_araucania.jsonl\", lines = True, encoding=\"utf-8\")\n",
        "\n",
        "#structure dataset\n",
        "\n",
        "dataset = split_dataset(df, 0.90)\n",
        "\n",
        "X = dataset[0]\n",
        "test_dataset = convert_binary(\"test\", dataset[1])\n",
        "print(\"test: \" + str(test_dataset[0]) + \" tokens, \" + str(test_dataset[1]) + \" entities\")\n",
        "\n",
        "#K-Fold configuration\n",
        "kf = KFold(n_splits=6, shuffle = True, random_state = 2)\n",
        "\n",
        "#variables\n",
        "n = 0\n",
        "results = {}\n",
        "\n",
        "#loop on k\n",
        "for train_index , test_index in kf.split(X):\n",
        "  \n",
        "  #enumeration\n",
        "  n += 1\n",
        "  print(\"<----- run k \" + str(n) + \"----->\")\n",
        "\n",
        "  #path\n",
        "  os.mkdir(f\"/content/drive/MyDrive/nlp/spacyNER_model/cross_valid/fold_{str(n)}\")\n",
        "  path_ouput = f\"/content/drive/MyDrive/nlp/spacyNER_model/cross_valid/fold_{str(n)}\"\n",
        "  best_model = f\"/content/drive/MyDrive/nlp/spacyNER_model/cross_valid/fold_{str(n)}/model-best\"\n",
        "  json_output = f\"/content/drive/MyDrive/nlp/spacyNER_model/cross_valid/fold_{str(n)}/scores.json\"\n",
        "\n",
        "  #convert in binary format\n",
        "  X_train , X_test = X.iloc[train_index,:],X.iloc[test_index,:]\n",
        "  train_binary = convert_binary(\"train\",X_train)\n",
        "  dev_binary = convert_binary(\"dev\",X_test)\n",
        "\n",
        "  #metadata\n",
        "  results[n] ={\n",
        "                    \"test_data\": [test_dataset[0],test_dataset[1]],\n",
        "                    \"train_data\" : [train_binary[0],train_binary[1]],\n",
        "                    \"dev_data\" : [dev_binary[0],dev_binary[1]]\n",
        "                }\n",
        "\n",
        "  #init config\n",
        "  !python -m spacy init fill-config /content/drive/MyDrive/nlp/base_config.cfg config.cfg\n",
        "\n",
        "  #training\n",
        "  !python -m spacy train config.cfg --paths.train /content/drive/MyDrive/nlp/spacyNER_data/train.spacy --paths.dev /content/drive/MyDrive/nlp/spacyNER_data/dev.spacy -g 0 --output $path_ouput\n",
        "  \n",
        "  #evaluation\n",
        "  !python -m spacy evaluate $best_model /content/drive/MyDrive/nlp/spacyNER_data/test.spacy --output $json_output --gold-preproc --gpu-id 0\n",
        "\n",
        "#export json metadata\n",
        "export_json(results)"
      ],
      "metadata": {
        "id": "FknhDHzR2T2b"
      },
      "execution_count": null,
      "outputs": []
    },
    {
      "cell_type": "markdown",
      "source": [
        "<a name=\"section03\"></a>\n",
        "### Global Evaluation"
      ],
      "metadata": {
        "id": "iJDj8P9VQyv7"
      }
    },
    {
      "cell_type": "markdown",
      "source": [
        "#####Choose model\n",
        "\n",
        "Put the path of your select model"
      ],
      "metadata": {
        "id": "2-KDARLg8Dwm"
      }
    },
    {
      "cell_type": "code",
      "source": [
        "path_model = '/content/drive/MyDrive/nlp/spacyNER_model/cross_valid/fold_1/model-best' #@param {type:\"string\"}"
      ],
      "metadata": {
        "id": "CrLNyoHl5dCB"
      },
      "execution_count": 11,
      "outputs": []
    },
    {
      "cell_type": "markdown",
      "source": [
        "####Metrics"
      ],
      "metadata": {
        "id": "KfZL4b7h5TmF"
      }
    },
    {
      "cell_type": "markdown",
      "source": [
        "#### Visualisation Model"
      ],
      "metadata": {
        "id": "M7hMQKsGQ5Xl"
      }
    },
    {
      "cell_type": "code",
      "source": [
        "#init GPU spacy\n",
        "import spacy\n",
        "gpu = spacy.prefer_gpu()\n",
        "print('GPU:', gpu)"
      ],
      "metadata": {
        "colab": {
          "base_uri": "https://localhost:8080/"
        },
        "id": "cbCf9JE23OgC",
        "outputId": "29ed94ad-6e3a-4ce9-9cf2-f9ab2d16f790"
      },
      "execution_count": 12,
      "outputs": [
        {
          "output_type": "stream",
          "name": "stdout",
          "text": [
            "GPU: True\n"
          ]
        }
      ]
    },
    {
      "cell_type": "markdown",
      "source": [
        "##### Choose text to analyze"
      ],
      "metadata": {
        "id": "g7UQar8Q8JZz"
      }
    },
    {
      "cell_type": "code",
      "source": [
        "#if img 189 - 203\n",
        "text_clean = \"\"\"\n",
        "Comandancia de Armas\n",
        "Arauco Diciembre 14 de 1859\n",
        "En este momento recibí la nota de Usted fecha de ayer.\n",
        "Inmediatamente hice propio a Los Ángeles, participando al Señor Intendente, el éxito que ha tenido.\n",
        "Tendré mucho cuidado en sujetar todos los animales que arreen ilegalmente.\n",
        "Todavía no he recibido los 80 animales que le mandé, para hacer la correspondiente devolución a sus dueños.\n",
        "Aquí no hay novedad. El conductor don Salvador [Hermosilla] lleva 25 lanzas, con éstas son 124.\n",
        "Dios guarde a Usted,\n",
        "José del Carmen Díaz\n",
        "Al Señor Comandante en Jefe de la División Pacificadora de Arauco\n",
        "\n",
        "--------------------\n",
        "\n",
        "Gobierno Interino de\n",
        "Arauco Enero 2 de 1860\n",
        "Por el Gobernador del Departamento de Lautaro se me comunica lo que sigue:\n",
        "Santa Juana, Enero 2 de 1860\n",
        "Por la Intendencia de mi provincia en nota oficial fecha 29 del mes próximo pasado Nº 472, se me ordena poner a disposición de Usted al reo Juan [Hermosilla], titulado Sargento Mayor de la montonera de Patricio Silva; para que allí sea juzgado, y en su consecuencia se lo remito bajo segura custodia, y Usted se servirá acusar recibo. Dios guarde a Usted, Pascual Ruiz\n",
        "Yo lo transcribo a Usted para su conocimiento.\n",
        "Mientras Usted se sirva determinar de dicho reo, he dispuesto mandarlo a bordo del Vapor “Maipú”, para la mayor seguridad.\n",
        "Dios guarde a Usted,\n",
        "José del Carmen Díaz\n",
        "\"\"\"\n",
        "\n",
        "text_brut = \"\"\"\"\"\"\n",
        "\n",
        "text_htr = \"\"\"\"\"\""
      ],
      "metadata": {
        "id": "bY5f5RL6mX_6"
      },
      "execution_count": 13,
      "outputs": []
    },
    {
      "cell_type": "code",
      "source": [
        "text = text_clean #@param [\"text_clean\", \"text_brut\", \"text_htr\"] {type:\"raw\"}"
      ],
      "metadata": {
        "id": "0kAQHDDk7omp"
      },
      "execution_count": 14,
      "outputs": []
    },
    {
      "cell_type": "markdown",
      "source": [
        "##### Process"
      ],
      "metadata": {
        "id": "uZTNeKWZ8OiX"
      }
    },
    {
      "cell_type": "code",
      "source": [
        "#Processing tokenization\n",
        "nlp = spacy.load(path_model)\n",
        "doc_clean = nlp(text)"
      ],
      "metadata": {
        "id": "_D6laUUP3SUB"
      },
      "execution_count": 15,
      "outputs": []
    },
    {
      "cell_type": "code",
      "source": [
        "from spacy import displacy\n",
        "from pathlib import Path\n",
        "\n",
        "#option visualizers ent\n",
        "colors = {\n",
        "    \"MISC\": \"#808D8E\",\n",
        "    \"LOC\": \"#766C7F\",\n",
        "    \"PERS\": \"#947EB0\",\n",
        "    \"DATE\": \"#A3A5C3\",\n",
        "    \"ORG\": \"#A9D2D5\"\n",
        "    }\n",
        "options= {\"ents\": [\"MISC\", \"LOC\", \"PERS\", \"DATE\", \"ORG\"], \"colors\": colors}\n",
        "\n",
        "#render\n",
        "html = displacy.render(doc_clean, style=\"ent\", jupyter=True, options=options, page=True)"
      ],
      "metadata": {
        "colab": {
          "base_uri": "https://localhost:8080/",
          "height": 1000
        },
        "id": "SqEwX_yg3W6g",
        "outputId": "163ef658-3bde-47ed-955e-3dc4ee849fdc"
      },
      "execution_count": 16,
      "outputs": [
        {
          "output_type": "display_data",
          "data": {
            "text/plain": [
              "<IPython.core.display.HTML object>"
            ],
            "text/html": [
              "<span class=\"tex2jax_ignore\"><!DOCTYPE html>\n",
              "<html lang=\"es\">\n",
              "    <head>\n",
              "        <title>displaCy</title>\n",
              "    </head>\n",
              "\n",
              "    <body style=\"font-size: 16px; font-family: -apple-system, BlinkMacSystemFont, 'Segoe UI', Helvetica, Arial, sans-serif, 'Apple Color Emoji', 'Segoe UI Emoji', 'Segoe UI Symbol'; padding: 4rem 2rem; direction: ltr\">\n",
              "<figure style=\"margin-bottom: 6rem\">\n",
              "<div class=\"entities\" style=\"line-height: 2.5; direction: ltr\"></br>\n",
              "<mark class=\"entity\" style=\"background: #A9D2D5; padding: 0.45em 0.6em; margin: 0 0.25em; line-height: 1; border-radius: 0.35em;\">\n",
              "    Comandancia de Armas\n",
              "    <span style=\"font-size: 0.8em; font-weight: bold; line-height: 1; border-radius: 0.35em; vertical-align: middle; margin-left: 0.5rem\">ORG</span>\n",
              "</mark>\n",
              "</br>\n",
              "<mark class=\"entity\" style=\"background: #766C7F; padding: 0.45em 0.6em; margin: 0 0.25em; line-height: 1; border-radius: 0.35em;\">\n",
              "    Arauco\n",
              "    <span style=\"font-size: 0.8em; font-weight: bold; line-height: 1; border-radius: 0.35em; vertical-align: middle; margin-left: 0.5rem\">LOC</span>\n",
              "</mark>\n",
              " \n",
              "<mark class=\"entity\" style=\"background: #A3A5C3; padding: 0.45em 0.6em; margin: 0 0.25em; line-height: 1; border-radius: 0.35em;\">\n",
              "    Diciembre 14 de 1859\n",
              "    <span style=\"font-size: 0.8em; font-weight: bold; line-height: 1; border-radius: 0.35em; vertical-align: middle; margin-left: 0.5rem\">DATE</span>\n",
              "</mark>\n",
              "</br>En este momento recibí la nota de Usted \n",
              "<mark class=\"entity\" style=\"background: #A3A5C3; padding: 0.45em 0.6em; margin: 0 0.25em; line-height: 1; border-radius: 0.35em;\">\n",
              "    fecha de ayer\n",
              "    <span style=\"font-size: 0.8em; font-weight: bold; line-height: 1; border-radius: 0.35em; vertical-align: middle; margin-left: 0.5rem\">DATE</span>\n",
              "</mark>\n",
              ".</br>Inmediatamente hice propio a \n",
              "<mark class=\"entity\" style=\"background: #766C7F; padding: 0.45em 0.6em; margin: 0 0.25em; line-height: 1; border-radius: 0.35em;\">\n",
              "    Los Ángeles\n",
              "    <span style=\"font-size: 0.8em; font-weight: bold; line-height: 1; border-radius: 0.35em; vertical-align: middle; margin-left: 0.5rem\">LOC</span>\n",
              "</mark>\n",
              ", participando al Señor \n",
              "<mark class=\"entity\" style=\"background: #947EB0; padding: 0.45em 0.6em; margin: 0 0.25em; line-height: 1; border-radius: 0.35em;\">\n",
              "    Intendente\n",
              "    <span style=\"font-size: 0.8em; font-weight: bold; line-height: 1; border-radius: 0.35em; vertical-align: middle; margin-left: 0.5rem\">PERS</span>\n",
              "</mark>\n",
              ", el éxito que ha tenido.</br>Tendré mucho cuidado en sujetar todos los \n",
              "<mark class=\"entity\" style=\"background: #808D8E; padding: 0.45em 0.6em; margin: 0 0.25em; line-height: 1; border-radius: 0.35em;\">\n",
              "    animales\n",
              "    <span style=\"font-size: 0.8em; font-weight: bold; line-height: 1; border-radius: 0.35em; vertical-align: middle; margin-left: 0.5rem\">MISC</span>\n",
              "</mark>\n",
              " que arreen ilegalmente.</br>Todavía no he recibido los \n",
              "<mark class=\"entity\" style=\"background: #808D8E; padding: 0.45em 0.6em; margin: 0 0.25em; line-height: 1; border-radius: 0.35em;\">\n",
              "    80 animales\n",
              "    <span style=\"font-size: 0.8em; font-weight: bold; line-height: 1; border-radius: 0.35em; vertical-align: middle; margin-left: 0.5rem\">MISC</span>\n",
              "</mark>\n",
              " que le mandé, para hacer la correspondiente devolución a sus dueños.</br>Aquí no hay novedad. El conductor don \n",
              "<mark class=\"entity\" style=\"background: #947EB0; padding: 0.45em 0.6em; margin: 0 0.25em; line-height: 1; border-radius: 0.35em;\">\n",
              "    Salvador [Hermosilla\n",
              "    <span style=\"font-size: 0.8em; font-weight: bold; line-height: 1; border-radius: 0.35em; vertical-align: middle; margin-left: 0.5rem\">PERS</span>\n",
              "</mark>\n",
              "] lleva \n",
              "<mark class=\"entity\" style=\"background: #808D8E; padding: 0.45em 0.6em; margin: 0 0.25em; line-height: 1; border-radius: 0.35em;\">\n",
              "    25 lanzas\n",
              "    <span style=\"font-size: 0.8em; font-weight: bold; line-height: 1; border-radius: 0.35em; vertical-align: middle; margin-left: 0.5rem\">MISC</span>\n",
              "</mark>\n",
              ", con éstas son 124.</br>Dios guarde a Usted,</br>\n",
              "<mark class=\"entity\" style=\"background: #947EB0; padding: 0.45em 0.6em; margin: 0 0.25em; line-height: 1; border-radius: 0.35em;\">\n",
              "    José del Carmen Díaz\n",
              "    <span style=\"font-size: 0.8em; font-weight: bold; line-height: 1; border-radius: 0.35em; vertical-align: middle; margin-left: 0.5rem\">PERS</span>\n",
              "</mark>\n",
              "</br>Al Señor \n",
              "<mark class=\"entity\" style=\"background: #947EB0; padding: 0.45em 0.6em; margin: 0 0.25em; line-height: 1; border-radius: 0.35em;\">\n",
              "    Comandante en Jefe\n",
              "    <span style=\"font-size: 0.8em; font-weight: bold; line-height: 1; border-radius: 0.35em; vertical-align: middle; margin-left: 0.5rem\">PERS</span>\n",
              "</mark>\n",
              " de la \n",
              "<mark class=\"entity\" style=\"background: #A9D2D5; padding: 0.45em 0.6em; margin: 0 0.25em; line-height: 1; border-radius: 0.35em;\">\n",
              "    División Pacificadora\n",
              "    <span style=\"font-size: 0.8em; font-weight: bold; line-height: 1; border-radius: 0.35em; vertical-align: middle; margin-left: 0.5rem\">ORG</span>\n",
              "</mark>\n",
              " de \n",
              "<mark class=\"entity\" style=\"background: #766C7F; padding: 0.45em 0.6em; margin: 0 0.25em; line-height: 1; border-radius: 0.35em;\">\n",
              "    Arauco\n",
              "    <span style=\"font-size: 0.8em; font-weight: bold; line-height: 1; border-radius: 0.35em; vertical-align: middle; margin-left: 0.5rem\">LOC</span>\n",
              "</mark>\n",
              "</br></br>--------------------</br></br>\n",
              "<mark class=\"entity\" style=\"background: #A9D2D5; padding: 0.45em 0.6em; margin: 0 0.25em; line-height: 1; border-radius: 0.35em;\">\n",
              "    Gobierno Interino\n",
              "    <span style=\"font-size: 0.8em; font-weight: bold; line-height: 1; border-radius: 0.35em; vertical-align: middle; margin-left: 0.5rem\">ORG</span>\n",
              "</mark>\n",
              " de</br>\n",
              "<mark class=\"entity\" style=\"background: #766C7F; padding: 0.45em 0.6em; margin: 0 0.25em; line-height: 1; border-radius: 0.35em;\">\n",
              "    Arauco\n",
              "    <span style=\"font-size: 0.8em; font-weight: bold; line-height: 1; border-radius: 0.35em; vertical-align: middle; margin-left: 0.5rem\">LOC</span>\n",
              "</mark>\n",
              " \n",
              "<mark class=\"entity\" style=\"background: #A3A5C3; padding: 0.45em 0.6em; margin: 0 0.25em; line-height: 1; border-radius: 0.35em;\">\n",
              "    Enero 2 de 1860\n",
              "    <span style=\"font-size: 0.8em; font-weight: bold; line-height: 1; border-radius: 0.35em; vertical-align: middle; margin-left: 0.5rem\">DATE</span>\n",
              "</mark>\n",
              "</br>Por el \n",
              "<mark class=\"entity\" style=\"background: #947EB0; padding: 0.45em 0.6em; margin: 0 0.25em; line-height: 1; border-radius: 0.35em;\">\n",
              "    Gobernador\n",
              "    <span style=\"font-size: 0.8em; font-weight: bold; line-height: 1; border-radius: 0.35em; vertical-align: middle; margin-left: 0.5rem\">PERS</span>\n",
              "</mark>\n",
              " del \n",
              "<mark class=\"entity\" style=\"background: #A9D2D5; padding: 0.45em 0.6em; margin: 0 0.25em; line-height: 1; border-radius: 0.35em;\">\n",
              "    Departamento\n",
              "    <span style=\"font-size: 0.8em; font-weight: bold; line-height: 1; border-radius: 0.35em; vertical-align: middle; margin-left: 0.5rem\">ORG</span>\n",
              "</mark>\n",
              " de \n",
              "<mark class=\"entity\" style=\"background: #766C7F; padding: 0.45em 0.6em; margin: 0 0.25em; line-height: 1; border-radius: 0.35em;\">\n",
              "    Lautaro\n",
              "    <span style=\"font-size: 0.8em; font-weight: bold; line-height: 1; border-radius: 0.35em; vertical-align: middle; margin-left: 0.5rem\">LOC</span>\n",
              "</mark>\n",
              " se me comunica lo que sigue:</br>\n",
              "<mark class=\"entity\" style=\"background: #766C7F; padding: 0.45em 0.6em; margin: 0 0.25em; line-height: 1; border-radius: 0.35em;\">\n",
              "    Santa Juana\n",
              "    <span style=\"font-size: 0.8em; font-weight: bold; line-height: 1; border-radius: 0.35em; vertical-align: middle; margin-left: 0.5rem\">LOC</span>\n",
              "</mark>\n",
              ", \n",
              "<mark class=\"entity\" style=\"background: #A3A5C3; padding: 0.45em 0.6em; margin: 0 0.25em; line-height: 1; border-radius: 0.35em;\">\n",
              "    Enero 2 de 1860\n",
              "    <span style=\"font-size: 0.8em; font-weight: bold; line-height: 1; border-radius: 0.35em; vertical-align: middle; margin-left: 0.5rem\">DATE</span>\n",
              "</mark>\n",
              "</br>Por la \n",
              "<mark class=\"entity\" style=\"background: #A9D2D5; padding: 0.45em 0.6em; margin: 0 0.25em; line-height: 1; border-radius: 0.35em;\">\n",
              "    Intendencia\n",
              "    <span style=\"font-size: 0.8em; font-weight: bold; line-height: 1; border-radius: 0.35em; vertical-align: middle; margin-left: 0.5rem\">ORG</span>\n",
              "</mark>\n",
              " de mi \n",
              "<mark class=\"entity\" style=\"background: #766C7F; padding: 0.45em 0.6em; margin: 0 0.25em; line-height: 1; border-radius: 0.35em;\">\n",
              "    provincia\n",
              "    <span style=\"font-size: 0.8em; font-weight: bold; line-height: 1; border-radius: 0.35em; vertical-align: middle; margin-left: 0.5rem\">LOC</span>\n",
              "</mark>\n",
              " en nota oficial \n",
              "<mark class=\"entity\" style=\"background: #A3A5C3; padding: 0.45em 0.6em; margin: 0 0.25em; line-height: 1; border-radius: 0.35em;\">\n",
              "    fecha 29 del mes\n",
              "    <span style=\"font-size: 0.8em; font-weight: bold; line-height: 1; border-radius: 0.35em; vertical-align: middle; margin-left: 0.5rem\">DATE</span>\n",
              "</mark>\n",
              " próximo pasado Nº 472, se me ordena poner a disposición de Usted al reo \n",
              "<mark class=\"entity\" style=\"background: #947EB0; padding: 0.45em 0.6em; margin: 0 0.25em; line-height: 1; border-radius: 0.35em;\">\n",
              "    Juan [Hermosilla\n",
              "    <span style=\"font-size: 0.8em; font-weight: bold; line-height: 1; border-radius: 0.35em; vertical-align: middle; margin-left: 0.5rem\">PERS</span>\n",
              "</mark>\n",
              "], titulado \n",
              "<mark class=\"entity\" style=\"background: #947EB0; padding: 0.45em 0.6em; margin: 0 0.25em; line-height: 1; border-radius: 0.35em;\">\n",
              "    Sargento Mayor\n",
              "    <span style=\"font-size: 0.8em; font-weight: bold; line-height: 1; border-radius: 0.35em; vertical-align: middle; margin-left: 0.5rem\">PERS</span>\n",
              "</mark>\n",
              " de la montonera de \n",
              "<mark class=\"entity\" style=\"background: #947EB0; padding: 0.45em 0.6em; margin: 0 0.25em; line-height: 1; border-radius: 0.35em;\">\n",
              "    Patricio Silva\n",
              "    <span style=\"font-size: 0.8em; font-weight: bold; line-height: 1; border-radius: 0.35em; vertical-align: middle; margin-left: 0.5rem\">PERS</span>\n",
              "</mark>\n",
              "; para que allí sea juzgado, y en su consecuencia se lo remito bajo segura custodia, y Usted se servirá acusar recibo. Dios guarde a Usted, \n",
              "<mark class=\"entity\" style=\"background: #947EB0; padding: 0.45em 0.6em; margin: 0 0.25em; line-height: 1; border-radius: 0.35em;\">\n",
              "    Pascual Ruiz\n",
              "    <span style=\"font-size: 0.8em; font-weight: bold; line-height: 1; border-radius: 0.35em; vertical-align: middle; margin-left: 0.5rem\">PERS</span>\n",
              "</mark>\n",
              "</br>Yo lo transcribo a Usted para su conocimiento.</br>Mientras Usted se sirva determinar de dicho reo, he dispuesto mandarlo a bordo del \n",
              "<mark class=\"entity\" style=\"background: #808D8E; padding: 0.45em 0.6em; margin: 0 0.25em; line-height: 1; border-radius: 0.35em;\">\n",
              "    Vapor “Maipú”\n",
              "    <span style=\"font-size: 0.8em; font-weight: bold; line-height: 1; border-radius: 0.35em; vertical-align: middle; margin-left: 0.5rem\">MISC</span>\n",
              "</mark>\n",
              ", para la mayor seguridad.</br>Dios guarde a Usted,</br>\n",
              "<mark class=\"entity\" style=\"background: #947EB0; padding: 0.45em 0.6em; margin: 0 0.25em; line-height: 1; border-radius: 0.35em;\">\n",
              "    José del Carmen Díaz\n",
              "    <span style=\"font-size: 0.8em; font-weight: bold; line-height: 1; border-radius: 0.35em; vertical-align: middle; margin-left: 0.5rem\">PERS</span>\n",
              "</mark>\n",
              "</br></div>\n",
              "</figure>\n",
              "</body>\n",
              "</html></span>"
            ]
          },
          "metadata": {}
        }
      ]
    }
  ]
}